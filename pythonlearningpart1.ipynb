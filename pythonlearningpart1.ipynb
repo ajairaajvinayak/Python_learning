{
 "cells": [
  {
   "cell_type": "code",
   "execution_count": 4,
   "id": "82d7c7f2-dea7-4a8a-b6f1-0a5b9bb3f72d",
   "metadata": {},
   "outputs": [
    {
     "name": "stdout",
     "output_type": "stream",
     "text": [
      "<class 'str'>\n"
     ]
    }
   ],
   "source": [
    "c = 'a'\n",
    "print(type(c))"
   ]
  },
  {
   "cell_type": "code",
   "execution_count": 14,
   "id": "6f800edb-1f81-4c99-8753-07b818683180",
   "metadata": {},
   "outputs": [
    {
     "name": "stdout",
     "output_type": "stream",
     "text": [
      "3\n",
      "we ajay the king of the world\n"
     ]
    }
   ],
   "source": [
    "a = \"we are the king of the world\"\n",
    "print(a.find(\"are\"))\n",
    "print(a.replace(\"are\",\"ajay\"))\n"
   ]
  },
  {
   "cell_type": "code",
   "execution_count": 16,
   "id": "309457e6-bca1-4b76-913a-d40b5ec2db94",
   "metadata": {},
   "outputs": [
    {
     "name": "stdout",
     "output_type": "stream",
     "text": [
      "d\n"
     ]
    }
   ],
   "source": [
    "print(a[-1])"
   ]
  },
  {
   "cell_type": "code",
   "execution_count": 22,
   "id": "46e5bf3c-1997-4627-89c9-61a7d34244b3",
   "metadata": {},
   "outputs": [
    {
     "name": "stdout",
     "output_type": "stream",
     "text": [
      "we ar\n"
     ]
    }
   ],
   "source": [
    "print(a[:5])"
   ]
  },
  {
   "cell_type": "code",
   "execution_count": 24,
   "id": "7aeacd90-213f-4f62-8b89-00a5a645b703",
   "metadata": {},
   "outputs": [
    {
     "name": "stdout",
     "output_type": "stream",
     "text": [
      "t\n"
     ]
    }
   ],
   "source": [
    "print(a[-9])"
   ]
  },
  {
   "cell_type": "code",
   "execution_count": 28,
   "id": "b86b5a31-9adf-4917-b5e6-7ad107304373",
   "metadata": {},
   "outputs": [
    {
     "name": "stdout",
     "output_type": "stream",
     "text": [
      "e\n"
     ]
    }
   ],
   "source": [
    "print(a[1:3:6])"
   ]
  },
  {
   "cell_type": "code",
   "execution_count": 30,
   "id": "88fc2572-03b2-46c4-b4f6-5d5c80588600",
   "metadata": {},
   "outputs": [
    {
     "name": "stdout",
     "output_type": "stream",
     "text": [
      "e\n"
     ]
    }
   ],
   "source": [
    "print(a[5])"
   ]
  },
  {
   "cell_type": "code",
   "execution_count": 32,
   "id": "9a6a977d-cc0a-4912-96f7-2c4e272ec0d3",
   "metadata": {},
   "outputs": [
    {
     "name": "stdout",
     "output_type": "stream",
     "text": [
      "dlrow eht fo gnik eht era ew\n"
     ]
    }
   ],
   "source": [
    "print(a[::-1])"
   ]
  },
  {
   "cell_type": "code",
   "execution_count": 56,
   "id": "70f2320a-3eb5-4d3f-9e8b-388ce39afcc7",
   "metadata": {},
   "outputs": [
    {
     "name": "stdout",
     "output_type": "stream",
     "text": [
      "False\n"
     ]
    }
   ],
   "source": [
    "print(a[2:8].isspace())"
   ]
  },
  {
   "cell_type": "code",
   "execution_count": 58,
   "id": "a649e758-ac84-4db5-9e9c-e17c2e47483f",
   "metadata": {},
   "outputs": [
    {
     "name": "stdout",
     "output_type": "stream",
     "text": [
      "True\n"
     ]
    }
   ],
   "source": [
    "print(a.startswith(\"we\"))"
   ]
  },
  {
   "cell_type": "code",
   "execution_count": 60,
   "id": "14ffc8e6-c244-43ca-af68-810e71f2cfeb",
   "metadata": {},
   "outputs": [
    {
     "name": "stdout",
     "output_type": "stream",
     "text": [
      "True\n"
     ]
    }
   ],
   "source": [
    "print(a.endswith(\"world\"))"
   ]
  },
  {
   "cell_type": "code",
   "execution_count": 66,
   "id": "25a25502-7535-4bbf-835e-bedfd1f62da6",
   "metadata": {},
   "outputs": [
    {
     "name": "stdout",
     "output_type": "stream",
     "text": [
      "['we', 'are', 'the', 'king', 'of', 'the', 'world']\n"
     ]
    }
   ],
   "source": [
    "print(a.split())"
   ]
  },
  {
   "cell_type": "markdown",
   "id": "9c3cbb3b-4500-4c72-9900-40026f125d98",
   "metadata": {},
   "source": [
    "Lists"
   ]
  },
  {
   "cell_type": "code",
   "execution_count": 70,
   "id": "f59420a5-a8fe-4200-891a-a838d8ac663b",
   "metadata": {},
   "outputs": [
    {
     "name": "stdout",
     "output_type": "stream",
     "text": [
      "<class 'list'>\n"
     ]
    }
   ],
   "source": [
    "#initialization\n",
    "l=[]\n",
    "print(type(l))"
   ]
  },
  {
   "cell_type": "code",
   "execution_count": 76,
   "id": "79fe5112-dd02-460a-a551-e28bb3cd9f7e",
   "metadata": {},
   "outputs": [
    {
     "name": "stdout",
     "output_type": "stream",
     "text": [
      "['we', 'are', 'the', 'king', 'of', 'the', 'World']\n"
     ]
    }
   ],
   "source": [
    "a = [\"we\",\"are\",\"the\",\"king\",\"of\",\"the\",\"World\"]\n",
    "print(a)"
   ]
  },
  {
   "cell_type": "code",
   "execution_count": 78,
   "id": "6b6faf4a-d1be-42b9-88c9-ae7ccc7c1da6",
   "metadata": {},
   "outputs": [
    {
     "name": "stdout",
     "output_type": "stream",
     "text": [
      "7\n"
     ]
    }
   ],
   "source": [
    "print(len(a))"
   ]
  },
  {
   "cell_type": "code",
   "execution_count": 80,
   "id": "4b835548-7366-48ef-84f7-5260f0673ed8",
   "metadata": {},
   "outputs": [
    {
     "name": "stdout",
     "output_type": "stream",
     "text": [
      "we\n"
     ]
    }
   ],
   "source": [
    "print(a[0])"
   ]
  },
  {
   "cell_type": "code",
   "execution_count": 82,
   "id": "380c2bb6-ded3-438b-8037-41e83d44712d",
   "metadata": {},
   "outputs": [
    {
     "name": "stdout",
     "output_type": "stream",
     "text": [
      "********************\n"
     ]
    }
   ],
   "source": [
    "print('*'*20)"
   ]
  },
  {
   "cell_type": "code",
   "execution_count": 86,
   "id": "7ba5b989-0f01-4f84-8687-cb76f203799d",
   "metadata": {},
   "outputs": [
    {
     "name": "stdout",
     "output_type": "stream",
     "text": [
      "Ajay Ajay Ajay Ajay Ajay Ajay Ajay Ajay Ajay Ajay Ajay Ajay Ajay Ajay Ajay Ajay Ajay Ajay Ajay Ajay Ajay Ajay Ajay Ajay Ajay Ajay Ajay Ajay Ajay Ajay \n"
     ]
    }
   ],
   "source": [
    "print(\"Ajay \"*30)"
   ]
  },
  {
   "cell_type": "code",
   "execution_count": 88,
   "id": "8d89681e-1fbb-44bd-9284-18dd9fb8e7e9",
   "metadata": {},
   "outputs": [
    {
     "name": "stdout",
     "output_type": "stream",
     "text": [
      "World\n"
     ]
    }
   ],
   "source": [
    "print(a[-1])"
   ]
  },
  {
   "cell_type": "code",
   "execution_count": 96,
   "id": "5e7ac56c-6e77-475f-8ac5-6c531db7808d",
   "metadata": {},
   "outputs": [
    {
     "name": "stdout",
     "output_type": "stream",
     "text": [
      "None\n",
      "['we', 'are', 'the', 'king', 'of', 'the', 'World', 'ajay', 'ajay', 'ajay']\n"
     ]
    }
   ],
   "source": [
    "print(a.append('ajay'))\n",
    "print(a)"
   ]
  },
  {
   "cell_type": "code",
   "execution_count": 98,
   "id": "80716dad-2f5e-4cb7-a55b-8dc4547bde2f",
   "metadata": {},
   "outputs": [
    {
     "name": "stdout",
     "output_type": "stream",
     "text": [
      "None\n",
      "['we', 'are', 'the', 'king', 'of', 'the', 'World', 'ajay', 'ajay', 'ajay', 20.2]\n"
     ]
    }
   ],
   "source": [
    "print(a.append(20.20))\n",
    "print(a)"
   ]
  },
  {
   "cell_type": "code",
   "execution_count": 100,
   "id": "da2fb791-7110-4567-b75c-98ec931d20ba",
   "metadata": {},
   "outputs": [
    {
     "name": "stdout",
     "output_type": "stream",
     "text": [
      "None\n",
      "['we', 'are', 'the', 'king', 'of', 'the', 'World', 'ajay', 'ajay', 20.2]\n"
     ]
    }
   ],
   "source": [
    "print(a.remove(\"ajay\"))\n",
    "print(a)"
   ]
  },
  {
   "cell_type": "code",
   "execution_count": 114,
   "id": "853e637c-e4d5-4622-b406-d77996632027",
   "metadata": {},
   "outputs": [
    {
     "name": "stdout",
     "output_type": "stream",
     "text": [
      "['we', 'are', 'the', 'king', 'of', 'the', 'World', 'ajay', 'ajay', 20.2]\n"
     ]
    }
   ],
   "source": [
    "print(a)"
   ]
  },
  {
   "cell_type": "code",
   "execution_count": 116,
   "id": "7a4f322e-4863-4541-ac9b-564c4f44b0d9",
   "metadata": {},
   "outputs": [
    {
     "name": "stdout",
     "output_type": "stream",
     "text": [
      "['raaj', ['we', 'are', 'the', 'king', 'of', 'the', 'World', 'ajay', 'ajay', 20.2]]\n"
     ]
    }
   ],
   "source": [
    "a1 = ['raaj',a]\n",
    "print(a1)"
   ]
  },
  {
   "cell_type": "code",
   "execution_count": 118,
   "id": "a6cb4215-50ff-4563-957b-e7a61bb7d5a6",
   "metadata": {},
   "outputs": [
    {
     "name": "stdout",
     "output_type": "stream",
     "text": [
      "raaj\n"
     ]
    }
   ],
   "source": [
    "print(a1[0])"
   ]
  },
  {
   "cell_type": "code",
   "execution_count": 130,
   "id": "377b5db6-c10c-4276-a5a7-dd48be5cf26b",
   "metadata": {},
   "outputs": [
    {
     "data": {
      "text/plain": [
       "['raaj']"
      ]
     },
     "execution_count": 130,
     "metadata": {},
     "output_type": "execute_result"
    }
   ],
   "source": [
    "a1"
   ]
  },
  {
   "cell_type": "code",
   "execution_count": 136,
   "id": "6b0d3324-b8da-4dfb-9a7f-7cb10f2cfe1b",
   "metadata": {},
   "outputs": [
    {
     "data": {
      "text/plain": [
       "['raaj', 'ajay']"
      ]
     },
     "execution_count": 136,
     "metadata": {},
     "output_type": "execute_result"
    }
   ],
   "source": [
    "a1.append(\"ajay\")\n",
    "a1"
   ]
  },
  {
   "cell_type": "code",
   "execution_count": 138,
   "id": "93ce49ed-811c-4322-ae28-5e32391c670b",
   "metadata": {},
   "outputs": [
    {
     "name": "stdout",
     "output_type": "stream",
     "text": [
      "['raaj', 'i am ']\n"
     ]
    }
   ],
   "source": [
    "a1[1] = \"i am \"\n",
    "print(a1)"
   ]
  },
  {
   "cell_type": "code",
   "execution_count": 140,
   "id": "08c471a6-2740-45a2-aecb-9bff9cd6b1fb",
   "metadata": {},
   "outputs": [],
   "source": [
    "a1[-2] = \"ragubathi\""
   ]
  },
  {
   "cell_type": "code",
   "execution_count": 142,
   "id": "d0b6aee5-4582-4af3-aa7f-7f074faf0b45",
   "metadata": {},
   "outputs": [
    {
     "name": "stdout",
     "output_type": "stream",
     "text": [
      "['ragubathi', 'i am ']\n"
     ]
    }
   ],
   "source": [
    "print(a1)"
   ]
  },
  {
   "cell_type": "code",
   "execution_count": 144,
   "id": "68f3735b-c8c9-4434-8d7a-583f3447e646",
   "metadata": {},
   "outputs": [
    {
     "data": {
      "text/plain": [
       "'a'"
      ]
     },
     "execution_count": 144,
     "metadata": {},
     "output_type": "execute_result"
    }
   ],
   "source": [
    "a1[0][1]"
   ]
  },
  {
   "cell_type": "code",
   "execution_count": 146,
   "id": "dc02fb5a-8655-4a87-ac09-d39c1d561446",
   "metadata": {},
   "outputs": [
    {
     "name": "stdout",
     "output_type": "stream",
     "text": [
      "['ragubathi', 'i am ']\n"
     ]
    }
   ],
   "source": [
    "print(a1)"
   ]
  },
  {
   "cell_type": "code",
   "execution_count": 173,
   "id": "615313c6-3d9e-4941-8361-b56c5b342e82",
   "metadata": {},
   "outputs": [
    {
     "data": {
      "text/plain": [
       "[1, 2, 4, 5.3, 12, 35, 42]"
      ]
     },
     "execution_count": 173,
     "metadata": {},
     "output_type": "execute_result"
    }
   ],
   "source": [
    "#sorting \n",
    "l =[1,2,42,12,4,35,5.3]\n",
    "(l.sort())\n",
    "l\n"
   ]
  },
  {
   "cell_type": "code",
   "execution_count": 9,
   "id": "aa4cc360-560d-4e7d-9ef5-9423126ecfcb",
   "metadata": {},
   "outputs": [
    {
     "name": "stdout",
     "output_type": "stream",
     "text": [
      "None\n",
      "[2, 3, 4, 5, 5, 6, 7]\n"
     ]
    }
   ],
   "source": [
    "l1 = [2,4,5]\n",
    "l2 = [3,6,7,5]\n",
    "s = l1+l2\n",
    "print(s.sort())\n",
    "print(s)\n",
    "\n"
   ]
  },
  {
   "cell_type": "raw",
   "id": "17e10209-309b-4d83-a4ef-f8be800c210d",
   "metadata": {},
   "source": [
    "Tuple "
   ]
  },
  {
   "cell_type": "code",
   "execution_count": 11,
   "id": "46fd4fb3-6d34-4c32-aef9-7a143bcd856a",
   "metadata": {},
   "outputs": [
    {
     "name": "stdout",
     "output_type": "stream",
     "text": [
      "<class 'tuple'>\n"
     ]
    }
   ],
   "source": [
    "#initiliazation \n",
    "t =()\n",
    "print(type(t))"
   ]
  },
  {
   "cell_type": "code",
   "execution_count": 13,
   "id": "556709f7-ee08-4b0b-b786-77b72b9be45f",
   "metadata": {},
   "outputs": [
    {
     "name": "stdout",
     "output_type": "stream",
     "text": [
      "<class 'tuple'>\n"
     ]
    }
   ],
   "source": [
    "t= (1,2,3)\n",
    "print(type(t))"
   ]
  },
  {
   "cell_type": "code",
   "execution_count": 17,
   "id": "db6b1526-2845-43b0-8797-fb972c00772c",
   "metadata": {},
   "outputs": [
    {
     "data": {
      "text/plain": [
       "('ajay', 1, 1.3, 'a')"
      ]
     },
     "execution_count": 17,
     "metadata": {},
     "output_type": "execute_result"
    }
   ],
   "source": [
    "t = (\"ajay\",1 , 1.3, 'a')\n",
    "t"
   ]
  },
  {
   "cell_type": "code",
   "execution_count": 21,
   "id": "4558dd91-f20c-4865-9fbe-21d9c87e69c0",
   "metadata": {},
   "outputs": [
    {
     "name": "stdout",
     "output_type": "stream",
     "text": [
      "1\n"
     ]
    }
   ],
   "source": [
    "#accesing with index\n",
    "print(t[1])"
   ]
  },
  {
   "cell_type": "code",
   "execution_count": 25,
   "id": "327659f4-95a3-4397-8e88-785d67f08d2e",
   "metadata": {},
   "outputs": [
    {
     "name": "stdout",
     "output_type": "stream",
     "text": [
      "(1, 1.3)\n"
     ]
    }
   ],
   "source": [
    "#slicing \n",
    "print(t[1:3])"
   ]
  },
  {
   "cell_type": "code",
   "execution_count": 27,
   "id": "38f057f5-bc7b-4217-885c-f75fb1afafb1",
   "metadata": {},
   "outputs": [
    {
     "ename": "TypeError",
     "evalue": "'tuple' object does not support item assignment",
     "output_type": "error",
     "traceback": [
      "\u001b[1;31m---------------------------------------------------------------------------\u001b[0m",
      "\u001b[1;31mTypeError\u001b[0m                                 Traceback (most recent call last)",
      "Cell \u001b[1;32mIn[27], line 2\u001b[0m\n\u001b[0;32m      1\u001b[0m \u001b[38;5;66;03m#tuple are innumatable \u001b[39;00m\n\u001b[1;32m----> 2\u001b[0m t[\u001b[38;5;241m2\u001b[39m]\u001b[38;5;241m=\u001b[39m \u001b[38;5;124m\"\u001b[39m\u001b[38;5;124majay\u001b[39m\u001b[38;5;124m\"\u001b[39m\n\u001b[0;32m      3\u001b[0m t\n",
      "\u001b[1;31mTypeError\u001b[0m: 'tuple' object does not support item assignment"
     ]
    }
   ],
   "source": [
    "#tuple are innumatable \n",
    "t[2]= \"ajay\"\n",
    "t\n",
    "#shows error as a output \n"
   ]
  },
  {
   "cell_type": "code",
   "execution_count": 2,
   "id": "30a7f8a4-0886-4845-b0f3-69668b747e07",
   "metadata": {},
   "outputs": [
    {
     "name": "stdout",
     "output_type": "stream",
     "text": [
      "1\n"
     ]
    }
   ],
   "source": [
    "t = (1,2,3,4,5,5,6,64,3,2)\n",
    "print(t.count(6))"
   ]
  },
  {
   "cell_type": "code",
   "execution_count": 14,
   "id": "a5527c71-1b53-4ce9-a901-67ef9bbe75a2",
   "metadata": {},
   "outputs": [
    {
     "name": "stdout",
     "output_type": "stream",
     "text": [
      "{1, 2, 3, 4, 5}\n",
      "{1, 2, 3, 4, 5}\n",
      "{3}\n",
      "{3}\n",
      "{1, 2}\n",
      "{1, 2}\n",
      "{1, 2, 4, 5}\n",
      "{1, 2, 4, 5}\n"
     ]
    }
   ],
   "source": [
    "#Set Operations \n",
    "set1 ={1,2,3}\n",
    "set2 = {3,4,5}\n",
    "print(set1|set2)\n",
    "print(set1.union(set2))\n",
    "print(set1&set2)\n",
    "print(set1.intersection(set2))\n",
    "print(set1 - set2)\n",
    "print(set1.difference(set2))\n",
    "print(set1 ^ set2)\n",
    "print(set1.symmetric_difference(set2))"
   ]
  },
  {
   "cell_type": "code",
   "execution_count": 16,
   "id": "9e271412-c918-4016-935c-794b25de2de1",
   "metadata": {},
   "outputs": [
    {
     "name": "stdout",
     "output_type": "stream",
     "text": [
      "<class 'dict'>\n"
     ]
    }
   ],
   "source": [
    "#dictionary \n",
    "#initialization \n",
    "d = {}\n",
    "print(type(d))"
   ]
  },
  {
   "cell_type": "code",
   "execution_count": 18,
   "id": "acefb155-8798-4df2-918b-45bca7e5ef40",
   "metadata": {},
   "outputs": [
    {
     "name": "stdout",
     "output_type": "stream",
     "text": [
      "{1: 'ajay', 2: 'ajarya', 'name': 'ajyaraaj '}\n"
     ]
    }
   ],
   "source": [
    "d= {1:\"ajay\",2:\"ajarya\", \"name\":\"ajyaraaj \"}\n",
    "print(d)"
   ]
  },
  {
   "cell_type": "code",
   "execution_count": 32,
   "id": "e2aa1ffb-740d-4df9-83e2-85040ee6557d",
   "metadata": {},
   "outputs": [
    {
     "name": "stdout",
     "output_type": "stream",
     "text": [
      "ajay\n"
     ]
    }
   ],
   "source": [
    "print(d[1])"
   ]
  },
  {
   "cell_type": "code",
   "execution_count": 36,
   "id": "69a5bdfe-44e9-4662-ac19-6e9556521dda",
   "metadata": {},
   "outputs": [
    {
     "name": "stdout",
     "output_type": "stream",
     "text": [
      "{1: 'ajay', 2: 'ajarya'}\n"
     ]
    }
   ],
   "source": [
    "del d['name']\n",
    "print(d)"
   ]
  },
  {
   "cell_type": "code",
   "execution_count": null,
   "id": "3f2405ea-d982-4f33-b1a3-e09cfe869468",
   "metadata": {},
   "outputs": [],
   "source": []
  },
  {
   "cell_type": "code",
   "execution_count": null,
   "id": "7828c0ae-3529-4a66-9ea8-7e4d85dfd10f",
   "metadata": {},
   "outputs": [],
   "source": []
  },
  {
   "cell_type": "code",
   "execution_count": null,
   "id": "2ed124d0-b2fa-418d-b02f-cc6cf0bf787b",
   "metadata": {},
   "outputs": [],
   "source": []
  },
  {
   "cell_type": "code",
   "execution_count": null,
   "id": "35e9e944-35da-41c9-ba0c-1258f8b7012c",
   "metadata": {},
   "outputs": [],
   "source": []
  },
  {
   "cell_type": "code",
   "execution_count": null,
   "id": "613e86b3-6523-4d79-9bc1-f1888d95d07e",
   "metadata": {},
   "outputs": [],
   "source": []
  },
  {
   "cell_type": "code",
   "execution_count": null,
   "id": "cec724fd-a0c8-42c2-9c52-5b4368565738",
   "metadata": {},
   "outputs": [],
   "source": []
  },
  {
   "cell_type": "code",
   "execution_count": null,
   "id": "4c52f00b-45c8-4cbe-80f3-d789ee22f075",
   "metadata": {},
   "outputs": [],
   "source": []
  },
  {
   "cell_type": "code",
   "execution_count": null,
   "id": "f96187f4-cea1-4581-8679-45596f0e78fb",
   "metadata": {},
   "outputs": [],
   "source": []
  },
  {
   "cell_type": "code",
   "execution_count": null,
   "id": "8d4ab234-1b71-4ad0-baa6-b6cf7cea20ef",
   "metadata": {},
   "outputs": [],
   "source": []
  },
  {
   "cell_type": "code",
   "execution_count": null,
   "id": "56513524-ebbc-4e89-9695-7c5f64f2993c",
   "metadata": {},
   "outputs": [],
   "source": []
  },
  {
   "cell_type": "code",
   "execution_count": null,
   "id": "5d8ff185-7d69-487e-877c-414e7b90c24b",
   "metadata": {},
   "outputs": [],
   "source": []
  },
  {
   "cell_type": "code",
   "execution_count": null,
   "id": "06dafd17-1cf5-494b-b8aa-ddabfc0ef0b3",
   "metadata": {},
   "outputs": [],
   "source": []
  }
 ],
 "metadata": {
  "kernelspec": {
   "display_name": "Python 3 (ipykernel)",
   "language": "python",
   "name": "python3"
  },
  "language_info": {
   "codemirror_mode": {
    "name": "ipython",
    "version": 3
   },
   "file_extension": ".py",
   "mimetype": "text/x-python",
   "name": "python",
   "nbconvert_exporter": "python",
   "pygments_lexer": "ipython3",
   "version": "3.12.4"
  }
 },
 "nbformat": 4,
 "nbformat_minor": 5
}
