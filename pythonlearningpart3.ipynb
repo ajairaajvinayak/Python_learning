{
 "cells": [
  {
   "cell_type": "code",
   "execution_count": 48,
   "id": "c40d5661-1de1-4ed0-91a7-bfe02fb6391e",
   "metadata": {},
   "outputs": [],
   "source": [
    "# function definition\n",
    "\n",
    "def even_odd(var):\n",
    "    if var % 2 == 0:\n",
    "        return \"Even\"\n",
    "    else:\n",
    "        return \"Odd\""
   ]
  },
  {
   "cell_type": "code",
   "execution_count": 58,
   "id": "ce739f38-3be9-4bdd-9e32-c6f5bccc20c6",
   "metadata": {},
   "outputs": [
    {
     "ename": "TypeError",
     "evalue": "'int' object is not callable",
     "output_type": "error",
     "traceback": [
      "\u001b[1;31m---------------------------------------------------------------------------\u001b[0m",
      "\u001b[1;31mTypeError\u001b[0m                                 Traceback (most recent call last)",
      "Cell \u001b[1;32mIn[58], line 1\u001b[0m\n\u001b[1;32m----> 1\u001b[0m user_input \u001b[38;5;241m=\u001b[39m \u001b[38;5;28mint\u001b[39m(\u001b[38;5;28minput\u001b[39m(\u001b[38;5;124m\"\u001b[39m\u001b[38;5;124mEnter a number: \u001b[39m\u001b[38;5;124m\"\u001b[39m))\n\u001b[0;32m      3\u001b[0m \u001b[38;5;28mprint\u001b[39m(even_odd(user_input))\n",
      "\u001b[1;31mTypeError\u001b[0m: 'int' object is not callable"
     ]
    }
   ],
   "source": [
    "user_input = int(input(\"Enter a number: \"))\n",
    "\n",
    "print(even_odd(user_input))"
   ]
  },
  {
   "cell_type": "code",
   "execution_count": 56,
   "id": "bfbcf014-318c-4ac6-ad03-555fdad82758",
   "metadata": {},
   "outputs": [
    {
     "ename": "TypeError",
     "evalue": "'int' object is not callable",
     "output_type": "error",
     "traceback": [
      "\u001b[1;31m---------------------------------------------------------------------------\u001b[0m",
      "\u001b[1;31mTypeError\u001b[0m                                 Traceback (most recent call last)",
      "Cell \u001b[1;32mIn[56], line 3\u001b[0m\n\u001b[0;32m      1\u001b[0m \u001b[38;5;66;03m# Write a program, to muliply a number with 10 if the given number is odd\u001b[39;00m\n\u001b[1;32m----> 3\u001b[0m user_input \u001b[38;5;241m=\u001b[39m \u001b[38;5;28mint\u001b[39m(\u001b[38;5;28minput\u001b[39m(\u001b[38;5;124m\"\u001b[39m\u001b[38;5;124mEnter a number: \u001b[39m\u001b[38;5;124m\"\u001b[39m))\n\u001b[0;32m      5\u001b[0m \u001b[38;5;28;01mif\u001b[39;00m even_odd(user_input) \u001b[38;5;241m==\u001b[39m \u001b[38;5;124m\"\u001b[39m\u001b[38;5;124mOdd\u001b[39m\u001b[38;5;124m\"\u001b[39m:\n\u001b[0;32m      6\u001b[0m     \u001b[38;5;28mprint\u001b[39m(user_input \u001b[38;5;241m*\u001b[39m \u001b[38;5;241m10\u001b[39m)\n",
      "\u001b[1;31mTypeError\u001b[0m: 'int' object is not callable"
     ]
    }
   ],
   "source": []
  },
  {
   "cell_type": "code",
   "execution_count": 60,
   "id": "38722265-c28b-4ebe-ac32-b93e0c7e56dd",
   "metadata": {},
   "outputs": [
    {
     "ename": "TypeError",
     "evalue": "'int' object is not callable",
     "output_type": "error",
     "traceback": [
      "\u001b[1;31m---------------------------------------------------------------------------\u001b[0m",
      "\u001b[1;31mTypeError\u001b[0m                                 Traceback (most recent call last)",
      "Cell \u001b[1;32mIn[60], line 3\u001b[0m\n\u001b[0;32m      1\u001b[0m \u001b[38;5;66;03m# Write a program, to muliply a number with 10 if the given number is odd\u001b[39;00m\n\u001b[1;32m----> 3\u001b[0m user_input \u001b[38;5;241m=\u001b[39m \u001b[38;5;28mint\u001b[39m(\u001b[38;5;28minput\u001b[39m(\u001b[38;5;124m\"\u001b[39m\u001b[38;5;124mEnter a number: \u001b[39m\u001b[38;5;124m\"\u001b[39m))\n\u001b[0;32m      5\u001b[0m \u001b[38;5;28;01mif\u001b[39;00m even_odd(user_input) \u001b[38;5;241m==\u001b[39m \u001b[38;5;124m\"\u001b[39m\u001b[38;5;124mOdd\u001b[39m\u001b[38;5;124m\"\u001b[39m:\n\u001b[0;32m      6\u001b[0m     \u001b[38;5;28mprint\u001b[39m(user_input \u001b[38;5;241m*\u001b[39m \u001b[38;5;241m10\u001b[39m)\n",
      "\u001b[1;31mTypeError\u001b[0m: 'int' object is not callable"
     ]
    }
   ],
   "source": [
    "# Write a program, to muliply a number with 10 if the given number is odd\n",
    "\n",
    "user_input = int(input(\"Enter a number: \"))\n",
    "\n",
    "if even_odd(user_input) == \"Odd\":\n",
    "    print(user_input * 10)"
   ]
  },
  {
   "cell_type": "code",
   "execution_count": 62,
   "id": "3838113d-4e02-48b3-805b-dc96c3b9f278",
   "metadata": {},
   "outputs": [
    {
     "name": "stdout",
     "output_type": "stream",
     "text": [
      "Hello World\n"
     ]
    }
   ],
   "source": [
    "#Function definition and calling a function \n",
    "def myFirstFunction():\n",
    "    '''This is my first function. It will print Hello World always.'''\n",
    "    print('Hello World')\n",
    "    \n",
    "myFirstFunction()\n",
    "\n",
    "# try to change indentation and line of the code.\n"
   ]
  },
  {
   "cell_type": "code",
   "execution_count": 66,
   "id": "12f8c910-9e8f-466e-b2ad-4618c0ef5428",
   "metadata": {},
   "outputs": [
    {
     "name": "stdout",
     "output_type": "stream",
     "text": [
      "This is my first function. It will print Hello World always.\n"
     ]
    }
   ],
   "source": [
    "print(myFirstFunction.__doc__)"
   ]
  },
  {
   "cell_type": "code",
   "execution_count": 68,
   "id": "2a7cb8e1-ef05-41e8-b136-073ab403a328",
   "metadata": {},
   "outputs": [
    {
     "name": "stdout",
     "output_type": "stream",
     "text": [
      "ajay\n"
     ]
    }
   ],
   "source": [
    "def myfu():\n",
    "    \"ahair rahdijhdkd\"\n",
    "    print(\"ajay\")\n",
    "\n",
    "myfu()"
   ]
  },
  {
   "cell_type": "code",
   "execution_count": 70,
   "id": "8279a90d-7714-4557-b89c-e7757e8be631",
   "metadata": {},
   "outputs": [
    {
     "name": "stdout",
     "output_type": "stream",
     "text": [
      "ahair rahdijhdkd\n"
     ]
    }
   ],
   "source": [
    "print(myfu.__doc__)"
   ]
  },
  {
   "cell_type": "code",
   "execution_count": 72,
   "id": "6db4368b-8a52-473d-b1e7-60321e459d55",
   "metadata": {},
   "outputs": [
    {
     "name": "stdout",
     "output_type": "stream",
     "text": [
      "(2, 1)\n"
     ]
    }
   ],
   "source": [
    "print(divmod(5,2))"
   ]
  },
  {
   "cell_type": "code",
   "execution_count": 74,
   "id": "f60a757e-e7d2-4e85-9fae-e7208bd724e7",
   "metadata": {},
   "outputs": [
    {
     "name": "stdout",
     "output_type": "stream",
     "text": [
      "range(stop) -> range object\n",
      "range(start, stop[, step]) -> range object\n",
      "\n",
      "Return an object that produces a sequence of integers from start (inclusive)\n",
      "to stop (exclusive) by step.  range(i, j) produces i, i+1, i+2, ..., j-1.\n",
      "start defaults to 0, and stop is omitted!  range(4) produces 0, 1, 2, 3.\n",
      "These are exactly the valid indices for a list of 4 elements.\n",
      "When step is given, it specifies the increment (or decrement).\n"
     ]
    }
   ],
   "source": [
    "print(range.__doc__)"
   ]
  },
  {
   "cell_type": "code",
   "execution_count": 80,
   "id": "523cb6e4-738c-45db-84c4-c85736920307",
   "metadata": {},
   "outputs": [
    {
     "name": "stdout",
     "output_type": "stream",
     "text": [
      "hello ajay\n",
      "hi ajai raaj how are you i am fine \n"
     ]
    }
   ],
   "source": [
    "#function with arguments/parameters \n",
    "def say(name):\n",
    "    \"hi ajai raaj how are you i am fine \"\n",
    "    print(\"hello\",name)\n",
    "\n",
    "say(\"ajay\")\n",
    "print(say.__doc__)"
   ]
  },
  {
   "cell_type": "code",
   "execution_count": 82,
   "id": "b9a68d44-fa8e-494f-8332-7832e7ec186e",
   "metadata": {},
   "outputs": [
    {
     "name": "stdout",
     "output_type": "stream",
     "text": [
      "The square of 10 is 100\n",
      "The square of 5 is 25\n"
     ]
    }
   ],
   "source": [
    "# Write a function to take a number and square it\n",
    "\n",
    "def square(num):\n",
    "    '''This function prints square'''\n",
    "    print('The square of {} is {}'.format(num, num**2))\n",
    "\n",
    "square(10)\n",
    "square(5)"
   ]
  },
  {
   "cell_type": "code",
   "execution_count": 86,
   "id": "a4aaf34f-1faf-4106-9fab-39d85ee5e35a",
   "metadata": {},
   "outputs": [],
   "source": [
    "#Return statement "
   ]
  },
  {
   "cell_type": "code",
   "execution_count": 92,
   "id": "d22f8078-d9ef-4949-bdf0-ab2b220a8535",
   "metadata": {},
   "outputs": [
    {
     "data": {
      "text/plain": [
       "100"
      ]
     },
     "execution_count": 92,
     "metadata": {},
     "output_type": "execute_result"
    }
   ],
   "source": [
    "def square(num):\n",
    "    '''This function returns square'''\n",
    "    return num*num\n",
    "\n",
    "square(10)\n"
   ]
  },
  {
   "cell_type": "code",
   "execution_count": 94,
   "id": "6189a155-2d63-4cf8-b6c6-b713433146f2",
   "metadata": {},
   "outputs": [
    {
     "data": {
      "text/plain": [
       "'Abc'"
      ]
     },
     "execution_count": 94,
     "metadata": {},
     "output_type": "execute_result"
    }
   ],
   "source": [
    "def fun():\n",
    "    return \"Abc\"\n",
    "    \n",
    "fun()"
   ]
  },
  {
   "cell_type": "code",
   "execution_count": 96,
   "id": "ae5045c1-de4d-4643-98a3-63a22345c47f",
   "metadata": {},
   "outputs": [
    {
     "name": "stdout",
     "output_type": "stream",
     "text": [
      "Abc\n"
     ]
    }
   ],
   "source": [
    "print(fun())"
   ]
  },
  {
   "cell_type": "code",
   "execution_count": 98,
   "id": "22fb5656-5a29-4da8-8e86-743592c75ef8",
   "metadata": {},
   "outputs": [
    {
     "name": "stdout",
     "output_type": "stream",
     "text": [
      "abc\n",
      "None\n"
     ]
    }
   ],
   "source": [
    "\n",
    "print(print('abc'))"
   ]
  },
  {
   "cell_type": "code",
   "execution_count": 100,
   "id": "c58aa705-dae3-43f1-9376-d29711ec7280",
   "metadata": {},
   "outputs": [
    {
     "name": "stdout",
     "output_type": "stream",
     "text": [
      "Hello\n",
      "None\n"
     ]
    }
   ],
   "source": [
    "def fun():\n",
    "    print('Hello')\n",
    "\n",
    "print(fun())"
   ]
  },
  {
   "cell_type": "code",
   "execution_count": 112,
   "id": "23fd5ff2-503b-4e7a-93f2-778886ea1581",
   "metadata": {},
   "outputs": [
    {
     "name": "stdout",
     "output_type": "stream",
     "text": [
      "20 10\n"
     ]
    }
   ],
   "source": [
    "# Multiple Returns\n",
    "\n",
    "def add_sub(a,b):\n",
    "    add = a+b\n",
    "    sub = a-b\n",
    "    print(add,sub)\n",
    "    \n",
    "\n",
    "add_sub(15,5)\n",
    "\n",
    "\n",
    "# try to remove subtraction"
   ]
  },
  {
   "cell_type": "code",
   "execution_count": 114,
   "id": "488ecedb-1343-41ab-b3d8-8d0b1fa58d59",
   "metadata": {},
   "outputs": [
    {
     "name": "stdout",
     "output_type": "stream",
     "text": [
      "30\n"
     ]
    }
   ],
   "source": [
    "# Global variable is accessible everywhere\n",
    "\n",
    "a = 10\n",
    "b = 20\n",
    "\n",
    "def fun_sum():\n",
    "    print(a+b)\n",
    "\n",
    "fun_sum()"
   ]
  },
  {
   "cell_type": "code",
   "execution_count": 116,
   "id": "8e698124-5bfc-4dd2-b90b-57ad986e8588",
   "metadata": {},
   "outputs": [
    {
     "name": "stdout",
     "output_type": "stream",
     "text": [
      "3\n"
     ]
    }
   ],
   "source": [
    "# Local Variable\n",
    "\n",
    "def fun_sum():\n",
    "    a = 1\n",
    "    b = 2\n",
    "    print(a+b)\n",
    "\n",
    "fun_sum()"
   ]
  },
  {
   "cell_type": "code",
   "execution_count": 120,
   "id": "867af710-490f-483c-8033-721b0970e6d2",
   "metadata": {},
   "outputs": [
    {
     "name": "stdout",
     "output_type": "stream",
     "text": [
      "30\n",
      "None\n",
      "200\n"
     ]
    }
   ],
   "source": [
    "x = 10\n",
    "y = 20 \n",
    "def fun_sum():\n",
    "\n",
    "    print(x+y)\n",
    "\n",
    "def fun_mult():\n",
    "    print(x*y)\n",
    "\n",
    "print(fun_sum())\n",
    "fun_mult()"
   ]
  },
  {
   "cell_type": "code",
   "execution_count": 122,
   "id": "312beaba-5853-4f70-ba07-cffdedb6217d",
   "metadata": {},
   "outputs": [
    {
     "ename": "UnboundLocalError",
     "evalue": "cannot access local variable 'temp' where it is not associated with a value",
     "output_type": "error",
     "traceback": [
      "\u001b[1;31m---------------------------------------------------------------------------\u001b[0m",
      "\u001b[1;31mUnboundLocalError\u001b[0m                         Traceback (most recent call last)",
      "Cell \u001b[1;32mIn[122], line 9\u001b[0m\n\u001b[0;32m      6\u001b[0m     temp \u001b[38;5;241m=\u001b[39m temp \u001b[38;5;241m+\u001b[39m \u001b[38;5;241m5\u001b[39m\n\u001b[0;32m      7\u001b[0m     \u001b[38;5;28mprint\u001b[39m(temp)\n\u001b[1;32m----> 9\u001b[0m fun()\n",
      "Cell \u001b[1;32mIn[122], line 6\u001b[0m, in \u001b[0;36mfun\u001b[1;34m()\u001b[0m\n\u001b[0;32m      5\u001b[0m \u001b[38;5;28;01mdef\u001b[39;00m \u001b[38;5;21mfun\u001b[39m():\n\u001b[1;32m----> 6\u001b[0m     temp \u001b[38;5;241m=\u001b[39m temp \u001b[38;5;241m+\u001b[39m \u001b[38;5;241m5\u001b[39m\n\u001b[0;32m      7\u001b[0m     \u001b[38;5;28mprint\u001b[39m(temp)\n",
      "\u001b[1;31mUnboundLocalError\u001b[0m: cannot access local variable 'temp' where it is not associated with a value"
     ]
    }
   ],
   "source": [
    "#Global variables \n",
    "\n",
    "temp = 10\n",
    "\n",
    "def fun():\n",
    "    temp = temp + 5\n",
    "    print(temp)\n",
    "    \n",
    "fun()"
   ]
  },
  {
   "cell_type": "code",
   "execution_count": 124,
   "id": "305eaa5a-11f3-4a72-9338-5e972e478fa7",
   "metadata": {},
   "outputs": [
    {
     "name": "stdout",
     "output_type": "stream",
     "text": [
      "25\n"
     ]
    }
   ],
   "source": [
    "temp = 20 \n",
    "def fun():\n",
    "    global temp \n",
    "    temp = temp+5 \n",
    "    print(temp)\n",
    "fun()"
   ]
  },
  {
   "cell_type": "code",
   "execution_count": null,
   "id": "e5429a5c-2c3a-4e00-aa96-f8a5af315507",
   "metadata": {},
   "outputs": [],
   "source": []
  },
  {
   "cell_type": "code",
   "execution_count": null,
   "id": "4e586a31-87cb-486b-ba3a-fcad8d4fcec8",
   "metadata": {},
   "outputs": [],
   "source": []
  },
  {
   "cell_type": "code",
   "execution_count": null,
   "id": "875d624f-ef96-4fcc-8546-423dedf00a46",
   "metadata": {},
   "outputs": [],
   "source": []
  },
  {
   "cell_type": "code",
   "execution_count": null,
   "id": "34ab5679-0a36-43f4-9fc0-9cba523406e9",
   "metadata": {},
   "outputs": [],
   "source": []
  },
  {
   "cell_type": "code",
   "execution_count": null,
   "id": "a19d0c98-bf36-4331-b5bd-f7277712bf8f",
   "metadata": {},
   "outputs": [],
   "source": []
  },
  {
   "cell_type": "code",
   "execution_count": null,
   "id": "5c814198-0e73-4fc5-b6cd-a927a600a775",
   "metadata": {},
   "outputs": [],
   "source": []
  }
 ],
 "metadata": {
  "kernelspec": {
   "display_name": "Python 3 (ipykernel)",
   "language": "python",
   "name": "python3"
  },
  "language_info": {
   "codemirror_mode": {
    "name": "ipython",
    "version": 3
   },
   "file_extension": ".py",
   "mimetype": "text/x-python",
   "name": "python",
   "nbconvert_exporter": "python",
   "pygments_lexer": "ipython3",
   "version": "3.12.4"
  }
 },
 "nbformat": 4,
 "nbformat_minor": 5
}
